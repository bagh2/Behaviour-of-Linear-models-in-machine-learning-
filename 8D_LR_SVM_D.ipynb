{
  "nbformat": 4,
  "nbformat_minor": 0,
  "metadata": {
    "kernelspec": {
      "display_name": "Python 3",
      "language": "python",
      "name": "python3"
    },
    "language_info": {
      "codemirror_mode": {
        "name": "ipython",
        "version": 3
      },
      "file_extension": ".py",
      "mimetype": "text/x-python",
      "name": "python",
      "nbconvert_exporter": "python",
      "pygments_lexer": "ipython3",
      "version": "3.6.8"
    },
    "colab": {
      "provenance": []
    }
  },
  "cells": [
    {
      "cell_type": "markdown",
      "metadata": {
        "id": "86Tvnj5UblTy"
      },
      "source": [
        "## Task-D: Collinear features and their effect on linear models"
      ]
    },
    {
      "cell_type": "code",
      "metadata": {
        "id": "qn_eOn2EblT3"
      },
      "source": [
        "%matplotlib inline\n",
        "import warnings\n",
        "warnings.filterwarnings(\"ignore\")\n",
        "import pandas as pd\n",
        "import numpy as np\n",
        "from sklearn.datasets import load_iris\n",
        "from sklearn.linear_model import SGDClassifier\n",
        "from sklearn.linear_model import LogisticRegression\n",
        "from sklearn.metrics import accuracy_score\n",
        "from sklearn.svm import SVC\n",
        "\n",
        "from sklearn.model_selection import GridSearchCV\n",
        "import seaborn as sns\n",
        "import matplotlib.pyplot as plt"
      ],
      "execution_count": 2,
      "outputs": []
    },
    {
      "cell_type": "code",
      "metadata": {
        "id": "VMoYWIayblUB"
      },
      "source": [
        "data = pd.read_csv('/content/task_d.csv')"
      ],
      "execution_count": 3,
      "outputs": []
    },
    {
      "cell_type": "code",
      "metadata": {
        "id": "RfStXG4tblUI",
        "outputId": "e1002979-1053-4113-8e2f-51a46dfdc44e",
        "colab": {
          "base_uri": "https://localhost:8080/",
          "height": 206
        }
      },
      "source": [
        "data.head()"
      ],
      "execution_count": 4,
      "outputs": [
        {
          "output_type": "execute_result",
          "data": {
            "text/plain": [
              "          x         y         z       x*x       2*y  2*z+3*x*x         w  \\\n",
              "0 -0.581066  0.841837 -1.012978 -0.604025  0.841837  -0.665927 -0.536277   \n",
              "1 -0.894309 -0.207835 -1.012978 -0.883052 -0.207835  -0.917054 -0.522364   \n",
              "2 -1.207552  0.212034 -1.082312 -1.150918  0.212034  -1.166507  0.205738   \n",
              "3 -1.364174  0.002099 -0.943643 -1.280666  0.002099  -1.266540 -0.665720   \n",
              "4 -0.737687  1.051772 -1.012978 -0.744934  1.051772  -0.792746 -0.735054   \n",
              "\n",
              "   target  \n",
              "0       0  \n",
              "1       0  \n",
              "2       0  \n",
              "3       0  \n",
              "4       0  "
            ],
            "text/html": [
              "\n",
              "  <div id=\"df-859c9697-5ca8-4430-a822-325c520ccc4d\">\n",
              "    <div class=\"colab-df-container\">\n",
              "      <div>\n",
              "<style scoped>\n",
              "    .dataframe tbody tr th:only-of-type {\n",
              "        vertical-align: middle;\n",
              "    }\n",
              "\n",
              "    .dataframe tbody tr th {\n",
              "        vertical-align: top;\n",
              "    }\n",
              "\n",
              "    .dataframe thead th {\n",
              "        text-align: right;\n",
              "    }\n",
              "</style>\n",
              "<table border=\"1\" class=\"dataframe\">\n",
              "  <thead>\n",
              "    <tr style=\"text-align: right;\">\n",
              "      <th></th>\n",
              "      <th>x</th>\n",
              "      <th>y</th>\n",
              "      <th>z</th>\n",
              "      <th>x*x</th>\n",
              "      <th>2*y</th>\n",
              "      <th>2*z+3*x*x</th>\n",
              "      <th>w</th>\n",
              "      <th>target</th>\n",
              "    </tr>\n",
              "  </thead>\n",
              "  <tbody>\n",
              "    <tr>\n",
              "      <th>0</th>\n",
              "      <td>-0.581066</td>\n",
              "      <td>0.841837</td>\n",
              "      <td>-1.012978</td>\n",
              "      <td>-0.604025</td>\n",
              "      <td>0.841837</td>\n",
              "      <td>-0.665927</td>\n",
              "      <td>-0.536277</td>\n",
              "      <td>0</td>\n",
              "    </tr>\n",
              "    <tr>\n",
              "      <th>1</th>\n",
              "      <td>-0.894309</td>\n",
              "      <td>-0.207835</td>\n",
              "      <td>-1.012978</td>\n",
              "      <td>-0.883052</td>\n",
              "      <td>-0.207835</td>\n",
              "      <td>-0.917054</td>\n",
              "      <td>-0.522364</td>\n",
              "      <td>0</td>\n",
              "    </tr>\n",
              "    <tr>\n",
              "      <th>2</th>\n",
              "      <td>-1.207552</td>\n",
              "      <td>0.212034</td>\n",
              "      <td>-1.082312</td>\n",
              "      <td>-1.150918</td>\n",
              "      <td>0.212034</td>\n",
              "      <td>-1.166507</td>\n",
              "      <td>0.205738</td>\n",
              "      <td>0</td>\n",
              "    </tr>\n",
              "    <tr>\n",
              "      <th>3</th>\n",
              "      <td>-1.364174</td>\n",
              "      <td>0.002099</td>\n",
              "      <td>-0.943643</td>\n",
              "      <td>-1.280666</td>\n",
              "      <td>0.002099</td>\n",
              "      <td>-1.266540</td>\n",
              "      <td>-0.665720</td>\n",
              "      <td>0</td>\n",
              "    </tr>\n",
              "    <tr>\n",
              "      <th>4</th>\n",
              "      <td>-0.737687</td>\n",
              "      <td>1.051772</td>\n",
              "      <td>-1.012978</td>\n",
              "      <td>-0.744934</td>\n",
              "      <td>1.051772</td>\n",
              "      <td>-0.792746</td>\n",
              "      <td>-0.735054</td>\n",
              "      <td>0</td>\n",
              "    </tr>\n",
              "  </tbody>\n",
              "</table>\n",
              "</div>\n",
              "      <button class=\"colab-df-convert\" onclick=\"convertToInteractive('df-859c9697-5ca8-4430-a822-325c520ccc4d')\"\n",
              "              title=\"Convert this dataframe to an interactive table.\"\n",
              "              style=\"display:none;\">\n",
              "        \n",
              "  <svg xmlns=\"http://www.w3.org/2000/svg\" height=\"24px\"viewBox=\"0 0 24 24\"\n",
              "       width=\"24px\">\n",
              "    <path d=\"M0 0h24v24H0V0z\" fill=\"none\"/>\n",
              "    <path d=\"M18.56 5.44l.94 2.06.94-2.06 2.06-.94-2.06-.94-.94-2.06-.94 2.06-2.06.94zm-11 1L8.5 8.5l.94-2.06 2.06-.94-2.06-.94L8.5 2.5l-.94 2.06-2.06.94zm10 10l.94 2.06.94-2.06 2.06-.94-2.06-.94-.94-2.06-.94 2.06-2.06.94z\"/><path d=\"M17.41 7.96l-1.37-1.37c-.4-.4-.92-.59-1.43-.59-.52 0-1.04.2-1.43.59L10.3 9.45l-7.72 7.72c-.78.78-.78 2.05 0 2.83L4 21.41c.39.39.9.59 1.41.59.51 0 1.02-.2 1.41-.59l7.78-7.78 2.81-2.81c.8-.78.8-2.07 0-2.86zM5.41 20L4 18.59l7.72-7.72 1.47 1.35L5.41 20z\"/>\n",
              "  </svg>\n",
              "      </button>\n",
              "      \n",
              "  <style>\n",
              "    .colab-df-container {\n",
              "      display:flex;\n",
              "      flex-wrap:wrap;\n",
              "      gap: 12px;\n",
              "    }\n",
              "\n",
              "    .colab-df-convert {\n",
              "      background-color: #E8F0FE;\n",
              "      border: none;\n",
              "      border-radius: 50%;\n",
              "      cursor: pointer;\n",
              "      display: none;\n",
              "      fill: #1967D2;\n",
              "      height: 32px;\n",
              "      padding: 0 0 0 0;\n",
              "      width: 32px;\n",
              "    }\n",
              "\n",
              "    .colab-df-convert:hover {\n",
              "      background-color: #E2EBFA;\n",
              "      box-shadow: 0px 1px 2px rgba(60, 64, 67, 0.3), 0px 1px 3px 1px rgba(60, 64, 67, 0.15);\n",
              "      fill: #174EA6;\n",
              "    }\n",
              "\n",
              "    [theme=dark] .colab-df-convert {\n",
              "      background-color: #3B4455;\n",
              "      fill: #D2E3FC;\n",
              "    }\n",
              "\n",
              "    [theme=dark] .colab-df-convert:hover {\n",
              "      background-color: #434B5C;\n",
              "      box-shadow: 0px 1px 3px 1px rgba(0, 0, 0, 0.15);\n",
              "      filter: drop-shadow(0px 1px 2px rgba(0, 0, 0, 0.3));\n",
              "      fill: #FFFFFF;\n",
              "    }\n",
              "  </style>\n",
              "\n",
              "      <script>\n",
              "        const buttonEl =\n",
              "          document.querySelector('#df-859c9697-5ca8-4430-a822-325c520ccc4d button.colab-df-convert');\n",
              "        buttonEl.style.display =\n",
              "          google.colab.kernel.accessAllowed ? 'block' : 'none';\n",
              "\n",
              "        async function convertToInteractive(key) {\n",
              "          const element = document.querySelector('#df-859c9697-5ca8-4430-a822-325c520ccc4d');\n",
              "          const dataTable =\n",
              "            await google.colab.kernel.invokeFunction('convertToInteractive',\n",
              "                                                     [key], {});\n",
              "          if (!dataTable) return;\n",
              "\n",
              "          const docLinkHtml = 'Like what you see? Visit the ' +\n",
              "            '<a target=\"_blank\" href=https://colab.research.google.com/notebooks/data_table.ipynb>data table notebook</a>'\n",
              "            + ' to learn more about interactive tables.';\n",
              "          element.innerHTML = '';\n",
              "          dataTable['output_type'] = 'display_data';\n",
              "          await google.colab.output.renderOutput(dataTable, element);\n",
              "          const docLink = document.createElement('div');\n",
              "          docLink.innerHTML = docLinkHtml;\n",
              "          element.appendChild(docLink);\n",
              "        }\n",
              "      </script>\n",
              "    </div>\n",
              "  </div>\n",
              "  "
            ]
          },
          "metadata": {},
          "execution_count": 4
        }
      ]
    },
    {
      "cell_type": "code",
      "metadata": {
        "id": "JIIuomCkblUP"
      },
      "source": [
        "X = data.drop(['target'], axis=1).values\n",
        "Y = data['target'].values"
      ],
      "execution_count": 5,
      "outputs": []
    },
    {
      "cell_type": "code",
      "source": [
        "data.corr()   # here we are trying to findout corrlation between the feature "
      ],
      "metadata": {
        "id": "y_8DXBek8VFh",
        "outputId": "cbf43b69-387e-4f24-e131-73871f089174",
        "colab": {
          "base_uri": "https://localhost:8080/",
          "height": 300
        }
      },
      "execution_count": 6,
      "outputs": [
        {
          "output_type": "execute_result",
          "data": {
            "text/plain": [
              "                  x         y         z       x*x       2*y  2*z+3*x*x  \\\n",
              "x          1.000000 -0.205926  0.812458  0.997947 -0.205926   0.996252   \n",
              "y         -0.205926  1.000000 -0.602663 -0.209289  1.000000  -0.261123   \n",
              "z          0.812458 -0.602663  1.000000  0.807137 -0.602663   0.847163   \n",
              "x*x        0.997947 -0.209289  0.807137  1.000000 -0.209289   0.997457   \n",
              "2*y       -0.205926  1.000000 -0.602663 -0.209289  1.000000  -0.261123   \n",
              "2*z+3*x*x  0.996252 -0.261123  0.847163  0.997457 -0.261123   1.000000   \n",
              "w          0.583277 -0.401790  0.674486  0.583803 -0.401790   0.606860   \n",
              "target     0.728290 -0.690684  0.969990  0.719570 -0.690684   0.764729   \n",
              "\n",
              "                  w    target  \n",
              "x          0.583277  0.728290  \n",
              "y         -0.401790 -0.690684  \n",
              "z          0.674486  0.969990  \n",
              "x*x        0.583803  0.719570  \n",
              "2*y       -0.401790 -0.690684  \n",
              "2*z+3*x*x  0.606860  0.764729  \n",
              "w          1.000000  0.641750  \n",
              "target     0.641750  1.000000  "
            ],
            "text/html": [
              "\n",
              "  <div id=\"df-1691e2c1-6803-484b-8c88-adcb8c69e843\">\n",
              "    <div class=\"colab-df-container\">\n",
              "      <div>\n",
              "<style scoped>\n",
              "    .dataframe tbody tr th:only-of-type {\n",
              "        vertical-align: middle;\n",
              "    }\n",
              "\n",
              "    .dataframe tbody tr th {\n",
              "        vertical-align: top;\n",
              "    }\n",
              "\n",
              "    .dataframe thead th {\n",
              "        text-align: right;\n",
              "    }\n",
              "</style>\n",
              "<table border=\"1\" class=\"dataframe\">\n",
              "  <thead>\n",
              "    <tr style=\"text-align: right;\">\n",
              "      <th></th>\n",
              "      <th>x</th>\n",
              "      <th>y</th>\n",
              "      <th>z</th>\n",
              "      <th>x*x</th>\n",
              "      <th>2*y</th>\n",
              "      <th>2*z+3*x*x</th>\n",
              "      <th>w</th>\n",
              "      <th>target</th>\n",
              "    </tr>\n",
              "  </thead>\n",
              "  <tbody>\n",
              "    <tr>\n",
              "      <th>x</th>\n",
              "      <td>1.000000</td>\n",
              "      <td>-0.205926</td>\n",
              "      <td>0.812458</td>\n",
              "      <td>0.997947</td>\n",
              "      <td>-0.205926</td>\n",
              "      <td>0.996252</td>\n",
              "      <td>0.583277</td>\n",
              "      <td>0.728290</td>\n",
              "    </tr>\n",
              "    <tr>\n",
              "      <th>y</th>\n",
              "      <td>-0.205926</td>\n",
              "      <td>1.000000</td>\n",
              "      <td>-0.602663</td>\n",
              "      <td>-0.209289</td>\n",
              "      <td>1.000000</td>\n",
              "      <td>-0.261123</td>\n",
              "      <td>-0.401790</td>\n",
              "      <td>-0.690684</td>\n",
              "    </tr>\n",
              "    <tr>\n",
              "      <th>z</th>\n",
              "      <td>0.812458</td>\n",
              "      <td>-0.602663</td>\n",
              "      <td>1.000000</td>\n",
              "      <td>0.807137</td>\n",
              "      <td>-0.602663</td>\n",
              "      <td>0.847163</td>\n",
              "      <td>0.674486</td>\n",
              "      <td>0.969990</td>\n",
              "    </tr>\n",
              "    <tr>\n",
              "      <th>x*x</th>\n",
              "      <td>0.997947</td>\n",
              "      <td>-0.209289</td>\n",
              "      <td>0.807137</td>\n",
              "      <td>1.000000</td>\n",
              "      <td>-0.209289</td>\n",
              "      <td>0.997457</td>\n",
              "      <td>0.583803</td>\n",
              "      <td>0.719570</td>\n",
              "    </tr>\n",
              "    <tr>\n",
              "      <th>2*y</th>\n",
              "      <td>-0.205926</td>\n",
              "      <td>1.000000</td>\n",
              "      <td>-0.602663</td>\n",
              "      <td>-0.209289</td>\n",
              "      <td>1.000000</td>\n",
              "      <td>-0.261123</td>\n",
              "      <td>-0.401790</td>\n",
              "      <td>-0.690684</td>\n",
              "    </tr>\n",
              "    <tr>\n",
              "      <th>2*z+3*x*x</th>\n",
              "      <td>0.996252</td>\n",
              "      <td>-0.261123</td>\n",
              "      <td>0.847163</td>\n",
              "      <td>0.997457</td>\n",
              "      <td>-0.261123</td>\n",
              "      <td>1.000000</td>\n",
              "      <td>0.606860</td>\n",
              "      <td>0.764729</td>\n",
              "    </tr>\n",
              "    <tr>\n",
              "      <th>w</th>\n",
              "      <td>0.583277</td>\n",
              "      <td>-0.401790</td>\n",
              "      <td>0.674486</td>\n",
              "      <td>0.583803</td>\n",
              "      <td>-0.401790</td>\n",
              "      <td>0.606860</td>\n",
              "      <td>1.000000</td>\n",
              "      <td>0.641750</td>\n",
              "    </tr>\n",
              "    <tr>\n",
              "      <th>target</th>\n",
              "      <td>0.728290</td>\n",
              "      <td>-0.690684</td>\n",
              "      <td>0.969990</td>\n",
              "      <td>0.719570</td>\n",
              "      <td>-0.690684</td>\n",
              "      <td>0.764729</td>\n",
              "      <td>0.641750</td>\n",
              "      <td>1.000000</td>\n",
              "    </tr>\n",
              "  </tbody>\n",
              "</table>\n",
              "</div>\n",
              "      <button class=\"colab-df-convert\" onclick=\"convertToInteractive('df-1691e2c1-6803-484b-8c88-adcb8c69e843')\"\n",
              "              title=\"Convert this dataframe to an interactive table.\"\n",
              "              style=\"display:none;\">\n",
              "        \n",
              "  <svg xmlns=\"http://www.w3.org/2000/svg\" height=\"24px\"viewBox=\"0 0 24 24\"\n",
              "       width=\"24px\">\n",
              "    <path d=\"M0 0h24v24H0V0z\" fill=\"none\"/>\n",
              "    <path d=\"M18.56 5.44l.94 2.06.94-2.06 2.06-.94-2.06-.94-.94-2.06-.94 2.06-2.06.94zm-11 1L8.5 8.5l.94-2.06 2.06-.94-2.06-.94L8.5 2.5l-.94 2.06-2.06.94zm10 10l.94 2.06.94-2.06 2.06-.94-2.06-.94-.94-2.06-.94 2.06-2.06.94z\"/><path d=\"M17.41 7.96l-1.37-1.37c-.4-.4-.92-.59-1.43-.59-.52 0-1.04.2-1.43.59L10.3 9.45l-7.72 7.72c-.78.78-.78 2.05 0 2.83L4 21.41c.39.39.9.59 1.41.59.51 0 1.02-.2 1.41-.59l7.78-7.78 2.81-2.81c.8-.78.8-2.07 0-2.86zM5.41 20L4 18.59l7.72-7.72 1.47 1.35L5.41 20z\"/>\n",
              "  </svg>\n",
              "      </button>\n",
              "      \n",
              "  <style>\n",
              "    .colab-df-container {\n",
              "      display:flex;\n",
              "      flex-wrap:wrap;\n",
              "      gap: 12px;\n",
              "    }\n",
              "\n",
              "    .colab-df-convert {\n",
              "      background-color: #E8F0FE;\n",
              "      border: none;\n",
              "      border-radius: 50%;\n",
              "      cursor: pointer;\n",
              "      display: none;\n",
              "      fill: #1967D2;\n",
              "      height: 32px;\n",
              "      padding: 0 0 0 0;\n",
              "      width: 32px;\n",
              "    }\n",
              "\n",
              "    .colab-df-convert:hover {\n",
              "      background-color: #E2EBFA;\n",
              "      box-shadow: 0px 1px 2px rgba(60, 64, 67, 0.3), 0px 1px 3px 1px rgba(60, 64, 67, 0.15);\n",
              "      fill: #174EA6;\n",
              "    }\n",
              "\n",
              "    [theme=dark] .colab-df-convert {\n",
              "      background-color: #3B4455;\n",
              "      fill: #D2E3FC;\n",
              "    }\n",
              "\n",
              "    [theme=dark] .colab-df-convert:hover {\n",
              "      background-color: #434B5C;\n",
              "      box-shadow: 0px 1px 3px 1px rgba(0, 0, 0, 0.15);\n",
              "      filter: drop-shadow(0px 1px 2px rgba(0, 0, 0, 0.3));\n",
              "      fill: #FFFFFF;\n",
              "    }\n",
              "  </style>\n",
              "\n",
              "      <script>\n",
              "        const buttonEl =\n",
              "          document.querySelector('#df-1691e2c1-6803-484b-8c88-adcb8c69e843 button.colab-df-convert');\n",
              "        buttonEl.style.display =\n",
              "          google.colab.kernel.accessAllowed ? 'block' : 'none';\n",
              "\n",
              "        async function convertToInteractive(key) {\n",
              "          const element = document.querySelector('#df-1691e2c1-6803-484b-8c88-adcb8c69e843');\n",
              "          const dataTable =\n",
              "            await google.colab.kernel.invokeFunction('convertToInteractive',\n",
              "                                                     [key], {});\n",
              "          if (!dataTable) return;\n",
              "\n",
              "          const docLinkHtml = 'Like what you see? Visit the ' +\n",
              "            '<a target=\"_blank\" href=https://colab.research.google.com/notebooks/data_table.ipynb>data table notebook</a>'\n",
              "            + ' to learn more about interactive tables.';\n",
              "          element.innerHTML = '';\n",
              "          dataTable['output_type'] = 'display_data';\n",
              "          await google.colab.output.renderOutput(dataTable, element);\n",
              "          const docLink = document.createElement('div');\n",
              "          docLink.innerHTML = docLinkHtml;\n",
              "          element.appendChild(docLink);\n",
              "        }\n",
              "      </script>\n",
              "    </div>\n",
              "  </div>\n",
              "  "
            ]
          },
          "metadata": {},
          "execution_count": 6
        }
      ]
    },
    {
      "cell_type": "code",
      "source": [
        "dataplot = sns.heatmap(data.corr(), cmap=\"BrBG\", annot=True)     # here we have drawn the heatmap to variability in feature \n"
      ],
      "metadata": {
        "id": "AaJL3smI9JMv",
        "outputId": "aefde149-5c82-48d3-dbb4-b6a397bfa8b1",
        "colab": {
          "base_uri": "https://localhost:8080/",
          "height": 312
        }
      },
      "execution_count": 7,
      "outputs": [
        {
          "output_type": "display_data",
          "data": {
            "text/plain": [
              "<Figure size 432x288 with 2 Axes>"
            ],
            "image/png": "[encoded data removed]"
          },
          "metadata": {
            "needs_background": "light"
          }
        }
      ]
    },
    {
      "cell_type": "markdown",
      "metadata": {
        "id": "Ydm98u3EblUU"
      },
      "source": [
        "### Doing perturbation test to check the presence of collinearity  \n",
        "\n",
        "#### Task: 1 Logistic Regression\n",
        "<pre>\n",
        "\n",
        "\n",
        "1. <b>Finding the Correlation between the features</b>\n",
        "    a. check the correlation between the features\n",
        "    b. plot heat map of correlation matrix using seaborn heatmap\n",
        "2. <b>Finding the best model for the given data</b>\n",
        "    a. Train Logistic regression on data(X,Y) that we have created in the above cell\n",
        "    b. Find the best hyper prameter alpha with hyper parameter tuning using k-fold cross validation (grid search CV or         \n",
        "    random search CV make sure you choose the alpha in log space)\n",
        "    c. Creat a new Logistic regression with the best alpha\n",
        "    (search for how to get the best hyper parameter value), name the best model as 'best_model'\n",
        "    \n",
        "3. <b>Getting the weights with the original data</b>\n",
        "    a. train the 'best_model' with X, Y\n",
        "    b. Check the accuracy of the model 'best_model_accuracy'\n",
        "    c. Get the weights W using best_model.coef_\n",
        "\n",
        "4. <b>Modifying original data</b>\n",
        "    a. Add a noise(order of 10^-2) to each element of X \n",
        "    and get the new data set X' (X' = X + e)\n",
        "    b. Train the same 'best_model' with data (X', Y)\n",
        "    c. Check the accuracy of the model 'best_model_accuracy_edited'\n",
        "    d. Get the weights W' using best_model.coef_\n",
        "    \n",
        "5. <b> Checking deviations in metric and weights </b>\n",
        "    a. find the difference between 'best_model_accuracy_edited' and 'best_model_accuracy'\n",
        "    b. find the absolute change between each value of W and W' ==> |(W-W')|\n",
        "    c. print the top 4 features which have higher % change in weights \n",
        "    compare to the other feature\n",
        "\n",
        "</pre>\n",
        "\n",
        "#### Task: 2 Linear SVM\n",
        "\n",
        "<pre>\n",
        "1. Do the same steps (2, 3, 4, 5) we have done in the above task 1.\n",
        "</pre>\n",
        "\n",
        "<strong><font color='red'>Do write the observations based on the results you get from the deviations of weights in both Logistic Regression and linear SVM</font></strong>"
      ]
    },
    {
      "cell_type": "markdown",
      "source": [
        "**2. Finding the best model for the given data**"
      ],
      "metadata": {
        "id": "QazUFq8cXiW7"
      }
    },
    {
      "cell_type": "markdown",
      "source": [
        "#Task: 1 Logistic Regression\n"
      ],
      "metadata": {
        "id": "yOc6WDhgeUqq"
      }
    },
    {
      "cell_type": "code",
      "metadata": {
        "id": "Lai8wXU1pmSb",
        "colab": {
          "base_uri": "https://localhost:8080/"
        },
        "outputId": "8b5ba65f-cb64-4b80-a07b-bd71c1eff7b6"
      },
      "source": [
        "alpha =  np.logspace(-5, 8, 10)                    # here i m finding the best hyperparameter with best alpha value \n",
        "print(alpha)\n",
        "param_grid={'C':alpha}\n",
        "logreg = LogisticRegression() # using logestic regression "
      ],
      "execution_count": 8,
      "outputs": [
        {
          "output_type": "stream",
          "name": "stdout",
          "text": [
            "[1.00000000e-05 2.78255940e-04 7.74263683e-03 2.15443469e-01\n",
            " 5.99484250e+00 1.66810054e+02 4.64158883e+03 1.29154967e+05\n",
            " 3.59381366e+06 1.00000000e+08]\n"
          ]
        }
      ]
    },
    {
      "cell_type": "code",
      "source": [
        "logreg = GridSearchCV(logreg, param_grid, cv=5)          # here i have used grid search cv for this problem              \n"
      ],
      "metadata": {
        "id": "Nq2Wm8goeLZv"
      },
      "execution_count": 9,
      "outputs": []
    },
    {
      "cell_type": "code",
      "source": [
        "logreg.fit(X,Y)   # FIT THE DATA "
      ],
      "metadata": {
        "id": "nHegJnt1eLc_",
        "outputId": "de381fb0-6e93-41d4-91f0-9c7e2706c4d4",
        "colab": {
          "base_uri": "https://localhost:8080/"
        }
      },
      "execution_count": 10,
      "outputs": [
        {
          "output_type": "execute_result",
          "data": {
            "text/plain": [
              "GridSearchCV(cv=5, estimator=LogisticRegression(),\n",
              "             param_grid={'C': array([1.00000000e-05, 2.78255940e-04, 7.74263683e-03, 2.15443469e-01,\n",
              "       5.99484250e+00, 1.66810054e+02, 4.64158883e+03, 1.29154967e+05,\n",
              "       3.59381366e+06, 1.00000000e+08])})"
            ]
          },
          "metadata": {},
          "execution_count": 10
        }
      ]
    },
    {
      "cell_type": "code",
      "source": [
        "logreg.best_params_     # HERE FINDING THE BEST HYPERPARAMETER \n",
        "\n"
      ],
      "metadata": {
        "id": "MNPTeoQxeLga",
        "outputId": "bf49d21d-a2f6-456c-d8e9-a042ce4f07a7",
        "colab": {
          "base_uri": "https://localhost:8080/"
        }
      },
      "execution_count": 11,
      "outputs": [
        {
          "output_type": "execute_result",
          "data": {
            "text/plain": [
              "{'C': 1e-05}"
            ]
          },
          "metadata": {},
          "execution_count": 11
        }
      ]
    },
    {
      "cell_type": "code",
      "source": [
        "# the best parameter we got is 1e-05 "
      ],
      "metadata": {
        "id": "wNuhUVEtyjzf"
      },
      "execution_count": 12,
      "outputs": []
    },
    {
      "cell_type": "markdown",
      "source": [
        "**3. Getting the weights with the original data**\n",
        "\n",
        "```\n",
        "# This is formatted as code\n",
        "```\n",
        "\n"
      ],
      "metadata": {
        "id": "mp-JHebBgNHD"
      }
    },
    {
      "cell_type": "code",
      "source": [
        "best_model=LogisticRegression(C=1e-05)   # HERE AS PER ABOVE INSTRUCTION WE HAVE USE LOGISTIC REGRESSION FOR BEST MODEL\n"
      ],
      "metadata": {
        "id": "9UHTB639eLnF"
      },
      "execution_count": 13,
      "outputs": []
    },
    {
      "cell_type": "code",
      "source": [
        "best_model.fit(X,Y)      # HERE WILL FIT THE DATA\n"
      ],
      "metadata": {
        "id": "gZcfJ4y9eL9-",
        "outputId": "cda7ef9b-77e9-4898-ff5c-aa632ce78260",
        "colab": {
          "base_uri": "https://localhost:8080/"
        }
      },
      "execution_count": 14,
      "outputs": [
        {
          "output_type": "execute_result",
          "data": {
            "text/plain": [
              "LogisticRegression(C=1e-05)"
            ]
          },
          "metadata": {},
          "execution_count": 14
        }
      ]
    },
    {
      "cell_type": "code",
      "source": [
        "predictions = best_model.predict(X)   # PREDICTING THE BEST MODEL \n"
      ],
      "metadata": {
        "id": "CxDw0q4PeMBZ"
      },
      "execution_count": 15,
      "outputs": []
    },
    {
      "cell_type": "code",
      "source": [
        "\n",
        "accu=accuracy_score(Y, predictions)  \n",
        "# HERE PREDICTING THE ACCURACY WITH SKLEARN ACCURACY LIBRABRY \n",
        "print(accuracy_score(Y, predictions))\n"
      ],
      "metadata": {
        "id": "VejLRbAeeME1",
        "outputId": "d9ab6088-8d7d-4d9b-fe0c-4d3e542798bf",
        "colab": {
          "base_uri": "https://localhost:8080/"
        }
      },
      "execution_count": 16,
      "outputs": [
        {
          "output_type": "stream",
          "name": "stdout",
          "text": [
            "1.0\n"
          ]
        }
      ]
    },
    {
      "cell_type": "code",
      "source": [
        "wei=best_model.coef_[0]    # HERE PRINTINNG THE COEEF OF BEST MODEL \n",
        "print(best_model.coef_)\n"
      ],
      "metadata": {
        "colab": {
          "base_uri": "https://localhost:8080/"
        },
        "id": "yX2nuuwxU3_I",
        "outputId": "1c9a39d0-dd8e-43cd-d2ec-154a234383f7"
      },
      "execution_count": 17,
      "outputs": [
        {
          "output_type": "stream",
          "name": "stdout",
          "text": [
            "[[ 0.00036369 -0.000345    0.00048449  0.00035933 -0.000345    0.00038189\n",
            "   0.00032048]]\n"
          ]
        }
      ]
    },
    {
      "cell_type": "markdown",
      "source": [
        "**4. Modifying original data**"
      ],
      "metadata": {
        "id": "pbheRMJDjzw8"
      }
    },
    {
      "cell_type": "code",
      "source": [
        "X_NEW=X+.01   # adding noise as per instruction"
      ],
      "metadata": {
        "id": "lrDTj_vJi3Lg"
      },
      "execution_count": 18,
      "outputs": []
    },
    {
      "cell_type": "code",
      "source": [
        "updated_model=best_model.fit(X_NEW,Y)   # HERE I HAVE UPDATED THE MODEL BECAUSE OF ADDITION OF SOME NOISE VALUE AS PER INSTRUCTION "
      ],
      "metadata": {
        "id": "b7Bykf7Di3OX"
      },
      "execution_count": 19,
      "outputs": []
    },
    {
      "cell_type": "code",
      "source": [
        "prediction = best_model.predict(X_NEW)   #HERE WE WILL PREDICT THE NEW MODEL\n"
      ],
      "metadata": {
        "id": "33P6lOxWi3Re"
      },
      "execution_count": 20,
      "outputs": []
    },
    {
      "cell_type": "code",
      "source": [
        "new_accu=accuracy_score(Y, prediction)           # HERE WILL FIND OUT THE ACCURACY OF NEW MODEL\n",
        "print(accuracy_score(Y, prediction))"
      ],
      "metadata": {
        "id": "5PoHQH0mkM8X",
        "outputId": "df1e295a-4d74-4d12-d44d-fc8a791f08cc",
        "colab": {
          "base_uri": "https://localhost:8080/"
        }
      },
      "execution_count": 21,
      "outputs": [
        {
          "output_type": "stream",
          "name": "stdout",
          "text": [
            "1.0\n"
          ]
        }
      ]
    },
    {
      "cell_type": "code",
      "source": [
        "w_new=updated_model.coef_               # HERE WE WILL PRINT THE COEF OF NEW UPDATED MODEL \n",
        "w_new"
      ],
      "metadata": {
        "id": "ryh_aTG6kM-_",
        "outputId": "55772d8e-1097-4872-de74-b3824599aaf2",
        "colab": {
          "base_uri": "https://localhost:8080/"
        }
      },
      "execution_count": 22,
      "outputs": [
        {
          "output_type": "execute_result",
          "data": {
            "text/plain": [
              "array([[ 0.00036369, -0.000345  ,  0.00048449,  0.00035933, -0.000345  ,\n",
              "         0.00038189,  0.00032048]])"
            ]
          },
          "metadata": {},
          "execution_count": 22
        }
      ]
    },
    {
      "cell_type": "markdown",
      "source": [
        "**5.  Checking deviations in metric and weights**"
      ],
      "metadata": {
        "id": "TZxT5yrckjeu"
      }
    },
    {
      "cell_type": "code",
      "source": [
        "print(new_accu-accu)"
      ],
      "metadata": {
        "id": "HkRuFKVwkNCZ",
        "outputId": "8d0e9f19-b39e-42fa-bd6f-c500d07e8480",
        "colab": {
          "base_uri": "https://localhost:8080/"
        }
      },
      "execution_count": 23,
      "outputs": [
        {
          "output_type": "stream",
          "name": "stdout",
          "text": [
            "0.0\n"
          ]
        }
      ]
    },
    {
      "cell_type": "code",
      "source": [
        "difference=abs((wei-w_new))[0]\n",
        "print(difference)       # SO AS PER INSTRUCTION HERE WILL CHECK THE DIFFERENCE \n"
      ],
      "metadata": {
        "id": "944bQyv8i3Uz",
        "outputId": "793c11ab-ab4d-4365-de74-ef7d5caf9a0b",
        "colab": {
          "base_uri": "https://localhost:8080/"
        }
      },
      "execution_count": 24,
      "outputs": [
        {
          "output_type": "stream",
          "name": "stdout",
          "text": [
            "[3.04544419e-11 3.04711950e-11 3.04588067e-11 3.04540617e-11\n",
            " 3.04711950e-11 3.04543616e-11 3.04569679e-11]\n"
          ]
        }
      ]
    },
    {
      "cell_type": "code",
      "source": [
        "n=len(data.columns)-1\n",
        "percentage_change=[]\n",
        "for i in range (n):   \n",
        "                  # calulating the percentage change in weight\n",
        "    cp=(difference[i]/wei[i])*100\n",
        "    percentage_change.append(cp)"
      ],
      "metadata": {
        "id": "Xr0q_uVOmafC"
      },
      "execution_count": 25,
      "outputs": []
    },
    {
      "cell_type": "code",
      "source": [
        "columns=list(data.columns.values)\n",
        "# using lambda function to print sorted most imp featurres \n",
        "indices=sorted(range(len(percentage_change)), key=lambda i: percentage_change[i])[-4:]       # HERE USING THE LAMBDA \n",
        "print(\"the top 4 features which have higher % change in weights \")               # HERE WE ARE PRINTING THE TOP 4 FEATURE WHICH ARE HIGHLY COLLINEAR \n",
        "for K in indices:\n",
        "    print(columns[K])"
      ],
      "metadata": {
        "id": "lLYqsRZ2maid",
        "outputId": "125ae9a2-82ae-4a47-f583-6ba2a4992d02",
        "colab": {
          "base_uri": "https://localhost:8080/"
        }
      },
      "execution_count": 26,
      "outputs": [
        {
          "output_type": "stream",
          "name": "stdout",
          "text": [
            "the top 4 features which have higher % change in weights \n",
            "2*z+3*x*x\n",
            "x\n",
            "x*x\n",
            "w\n"
          ]
        }
      ]
    },
    {
      "cell_type": "markdown",
      "source": [
        "# **feature 2*z+3*x*x has higher change after adding noise** "
      ],
      "metadata": {
        "id": "m2ISTuoMzGjA"
      }
    },
    {
      "cell_type": "markdown",
      "source": [
        "#**Task: 2 Linear SVM**"
      ],
      "metadata": {
        "id": "gotRzpBmun6N"
      }
    },
    {
      "cell_type": "markdown",
      "source": [
        "**2. Finding the best model for the given data**"
      ],
      "metadata": {
        "id": "U9v_e4TkXrA2"
      }
    },
    {
      "cell_type": "code",
      "source": [
        "alpha =  np.logspace(-5, 8, 10)                   #  # here i m finding the best hyperparameter with best alpha value \n",
        "print(alpha)\n",
        "param_grid={'C':alpha}\n",
        "svm = SVC(kernel=\"linear\")"
      ],
      "metadata": {
        "id": "fzAoXBwXmaqK",
        "outputId": "6849c07c-bf82-487a-b742-a87f407309b7",
        "colab": {
          "base_uri": "https://localhost:8080/"
        }
      },
      "execution_count": 27,
      "outputs": [
        {
          "output_type": "stream",
          "name": "stdout",
          "text": [
            "[1.00000000e-05 2.78255940e-04 7.74263683e-03 2.15443469e-01\n",
            " 5.99484250e+00 1.66810054e+02 4.64158883e+03 1.29154967e+05\n",
            " 3.59381366e+06 1.00000000e+08]\n"
          ]
        }
      ]
    },
    {
      "cell_type": "code",
      "source": [
        "model = GridSearchCV(svm, param_grid, cv=5)                   # here i have used grid search cv for this problem\n"
      ],
      "metadata": {
        "id": "SzjVpzjjuNKF"
      },
      "execution_count": 28,
      "outputs": []
    },
    {
      "cell_type": "code",
      "source": [
        "model.fit(X,Y)                            # FIT THE DATA "
      ],
      "metadata": {
        "id": "MEF0hMdruNM9",
        "outputId": "4ef0259c-a1fc-4638-d5a4-10c6fa466ae1",
        "colab": {
          "base_uri": "https://localhost:8080/"
        }
      },
      "execution_count": 29,
      "outputs": [
        {
          "output_type": "execute_result",
          "data": {
            "text/plain": [
              "GridSearchCV(cv=5, estimator=SVC(kernel='linear'),\n",
              "             param_grid={'C': array([1.00000000e-05, 2.78255940e-04, 7.74263683e-03, 2.15443469e-01,\n",
              "       5.99484250e+00, 1.66810054e+02, 4.64158883e+03, 1.29154967e+05,\n",
              "       3.59381366e+06, 1.00000000e+08])})"
            ]
          },
          "metadata": {},
          "execution_count": 29
        }
      ]
    },
    {
      "cell_type": "code",
      "source": [
        "model.best_params_                                            # HERE FINDING THE BEST HYPERPARAMETER "
      ],
      "metadata": {
        "id": "AMKkE4LKuNQI",
        "outputId": "d7ccaeef-3b6d-4b45-8acf-701fa0afdd5c",
        "colab": {
          "base_uri": "https://localhost:8080/"
        }
      },
      "execution_count": 30,
      "outputs": [
        {
          "output_type": "execute_result",
          "data": {
            "text/plain": [
              "{'C': 0.007742636826811269}"
            ]
          },
          "metadata": {},
          "execution_count": 30
        }
      ]
    },
    {
      "cell_type": "markdown",
      "source": [
        "**3. Getting the weights with the original data**\n"
      ],
      "metadata": {
        "id": "nNFAyTKoviag"
      }
    },
    {
      "cell_type": "code",
      "source": [
        "best_model=SVC(kernel='linear',C=0.007742636826811269)            # HERE AS PER ABOVE INSTRUCTION WE HAVE USE LINEAR SVM  FOR BEST MODEL\n",
        "\n"
      ],
      "metadata": {
        "id": "baJTaokvuNTg"
      },
      "execution_count": 31,
      "outputs": []
    },
    {
      "cell_type": "code",
      "source": [
        "best_model.fit(X,Y)                                 # HERE WILL FIT THE DATA"
      ],
      "metadata": {
        "id": "w3DVsDROmatW",
        "outputId": "e2bb4ce6-069e-4bd0-9bdf-668e9fd57338",
        "colab": {
          "base_uri": "https://localhost:8080/"
        }
      },
      "execution_count": 32,
      "outputs": [
        {
          "output_type": "execute_result",
          "data": {
            "text/plain": [
              "SVC(C=0.007742636826811269, kernel='linear')"
            ]
          },
          "metadata": {},
          "execution_count": 32
        }
      ]
    },
    {
      "cell_type": "code",
      "source": [
        "predictions = best_model.predict(X)                                             # PREDICTING THE BEST MODEL \n"
      ],
      "metadata": {
        "id": "XTq5X5VYmawr"
      },
      "execution_count": 33,
      "outputs": []
    },
    {
      "cell_type": "code",
      "source": [
        "accu=accuracy_score(Y, predictions)\n",
        "print(accuracy_score(Y, predictions))                                            # HERE PREDICTING THE ACCURACY WITH SKLEARN ACCURACY LIBRABRY"
      ],
      "metadata": {
        "id": "eOHpRJ0Iv-ar",
        "outputId": "c0b657fd-2e9e-40c4-f0a4-423a34eb37c9",
        "colab": {
          "base_uri": "https://localhost:8080/"
        }
      },
      "execution_count": 34,
      "outputs": [
        {
          "output_type": "stream",
          "name": "stdout",
          "text": [
            "1.0\n"
          ]
        }
      ]
    },
    {
      "cell_type": "code",
      "source": [
        "wei=best_model.coef_[0]\n",
        "print(best_model.coef_)                                                         # HERE PRINTINNG THE COEEF OF BEST MODEL "
      ],
      "metadata": {
        "id": "nQJNRoSzv-eB",
        "outputId": "efc6ea49-3807-48f7-9e9d-ab671e5afdec",
        "colab": {
          "base_uri": "https://localhost:8080/"
        }
      },
      "execution_count": 35,
      "outputs": [
        {
          "output_type": "stream",
          "name": "stdout",
          "text": [
            "[[ 0.16056222 -0.20788705  0.32826166  0.14998082 -0.20788705  0.17461587\n",
            "   0.13401176]]\n"
          ]
        }
      ]
    },
    {
      "cell_type": "markdown",
      "source": [
        "**4. Modifying original data**"
      ],
      "metadata": {
        "id": "bIdBOGLqyNWb"
      }
    },
    {
      "cell_type": "code",
      "source": [
        "X_NEW=X+.01   # adding noise as per instruction"
      ],
      "metadata": {
        "id": "sBHnMEEZv-hN"
      },
      "execution_count": 36,
      "outputs": []
    },
    {
      "cell_type": "code",
      "source": [
        "updated_NEW_model=best_model.fit(X_NEW,Y)                               # HERE I HAVE UPDATED THE MODEL BECAUSE OF ADDITION OF SOME NOISE VALUE AS PER INSTRUCTION "
      ],
      "metadata": {
        "id": "KCfBOCoxv-k2"
      },
      "execution_count": 37,
      "outputs": []
    },
    {
      "cell_type": "code",
      "source": [
        "prediction = best_model.predict(X_NEW)                                  #HERE WE WILL PREDICT THE NEW MODEL\n"
      ],
      "metadata": {
        "id": "XYHPfMYnv-tn"
      },
      "execution_count": 38,
      "outputs": []
    },
    {
      "cell_type": "code",
      "source": [
        "new_accuracy=accuracy_score(Y, prediction)                       # HERE WILL FIND OUT THE ACCURACY OF NEW MODEL\n",
        "print(accuracy_score(Y, prediction))"
      ],
      "metadata": {
        "id": "HYHiwLw5v-w4",
        "outputId": "f9443106-8220-433d-eda3-b4ee8a188c7b",
        "colab": {
          "base_uri": "https://localhost:8080/"
        }
      },
      "execution_count": 39,
      "outputs": [
        {
          "output_type": "stream",
          "name": "stdout",
          "text": [
            "1.0\n"
          ]
        }
      ]
    },
    {
      "cell_type": "code",
      "source": [
        "w_new=updated_NEW_model.coef_                                  # HERE WE WILL PRINT THE COEF OF NEW UPDATED MODEL \n",
        "w_new\n",
        "print(\"THIS IS NEW WEIGHT OF MODEL AFTER ADDING NOISE\")"
      ],
      "metadata": {
        "id": "59Jqz0kmybRG",
        "outputId": "fbdea8d2-693a-4104-bba3-f70edd0538af",
        "colab": {
          "base_uri": "https://localhost:8080/"
        }
      },
      "execution_count": 40,
      "outputs": [
        {
          "output_type": "stream",
          "name": "stdout",
          "text": [
            "THIS IS NEW WEIGHT OF MODEL AFTER ADDING NOISE\n"
          ]
        }
      ]
    },
    {
      "cell_type": "markdown",
      "source": [
        "**5. Checking deviations in metric and weights**"
      ],
      "metadata": {
        "id": "jOvtSMckyi_y"
      }
    },
    {
      "cell_type": "code",
      "source": [
        "print(\"NEW ACCURACY OF MODEL AFTER ADDING THE NOISE\")\n",
        "print(new_accuracy-accu)  \n",
        "                        "
      ],
      "metadata": {
        "id": "tbZFVShFybUt",
        "outputId": "9013587c-80c6-4380-ab4e-53d617a39ec4",
        "colab": {
          "base_uri": "https://localhost:8080/"
        }
      },
      "execution_count": 41,
      "outputs": [
        {
          "output_type": "stream",
          "name": "stdout",
          "text": [
            "NEW ACCURACY OF MODEL AFTER ADDING THE NOISE\n",
            "0.0\n"
          ]
        }
      ]
    },
    {
      "cell_type": "code",
      "source": [
        "difference=abs((wei-w_new))[0]\n",
        "\n",
        "# cheking the difference between new noise weight and original  weight \n",
        "print(difference)                                           # SO AS PER INSTRUCTION HERE WILL CHECK THE DIFFERENCE \n"
      ],
      "metadata": {
        "id": "1EFLDXp8ybiH",
        "outputId": "04125ad9-d514-4bd8-eb0e-bdb7927075cf",
        "colab": {
          "base_uri": "https://localhost:8080/"
        }
      },
      "execution_count": 42,
      "outputs": [
        {
          "output_type": "stream",
          "name": "stdout",
          "text": [
            "[6.76507103e-05 2.15922620e-04 6.12315122e-05 8.28999945e-07\n",
            " 2.15922620e-04 6.64650571e-06 5.85197413e-05]\n"
          ]
        }
      ]
    },
    {
      "cell_type": "code",
      "source": [
        "n=len(data.columns)-1\n",
        "percentage_change=[]\n",
        "for i in range (n):                   # calulating the percentage change in weight\n",
        "    cp=(difference[i]/wei[i])*100\n",
        "    percentage_change.append(cp)"
      ],
      "metadata": {
        "id": "VHK2Ua2syblJ"
      },
      "execution_count": 43,
      "outputs": []
    },
    {
      "cell_type": "code",
      "source": [
        "columns=list(data.columns.values)\n",
        "\n",
        "# using a lambda function \n",
        "indices=sorted(range(len(percentage_change)), key=lambda i: percentage_change[i])[-4:]\n",
        "\n",
        "# printing the chnage in feature \n",
        "print(\"the top 4 features which have higher % change in weights \")\n",
        "for M in indices:\n",
        "    print(columns[M])"
      ],
      "metadata": {
        "id": "9yS8l0-oyboq",
        "outputId": "5247a9b6-db3e-443f-ea0a-e57a165fefe9",
        "colab": {
          "base_uri": "https://localhost:8080/"
        }
      },
      "execution_count": 44,
      "outputs": [
        {
          "output_type": "stream",
          "name": "stdout",
          "text": [
            "the top 4 features which have higher % change in weights \n",
            "2*z+3*x*x\n",
            "z\n",
            "x\n",
            "w\n"
          ]
        }
      ]
    },
    {
      "cell_type": "markdown",
      "source": [
        "# **WITH THE HELP OF LINEAR SVM WE CAN SEE THAT HERE ALSO 2*Z+3*X*X HAS HIGHES CHANGE IN AMONG ALL THE FEATURE THAT MEAN HIGHLY CORRELATED**"
      ],
      "metadata": {
        "id": "DkN1LT5Zz6jy"
      }
    },
    {
      "cell_type": "markdown",
      "source": [
        "#**1. some features are really  correlated but not highly littile bit**  .\n",
        "# **2. we have done purtubration test but there is not big change in feature**\n",
        "#**3.we can see after performing svm and logestic regression not big change in features** \n",
        "#**4.so we can see not a big improvement in correlation after partubation test  so there is no COLLINEARITY based on purturbation test**"
      ],
      "metadata": {
        "id": "NeaOrASwVy88"
      }
    }
  ]
}