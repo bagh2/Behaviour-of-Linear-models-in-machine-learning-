{
  "nbformat": 4,
  "nbformat_minor": 0,
  "metadata": {
    "kernelspec": {
      "display_name": "Python 3",
      "language": "python",
      "name": "python3"
    },
    "language_info": {
      "codemirror_mode": {
        "name": "ipython",
        "version": 3
      },
      "file_extension": ".py",
      "mimetype": "text/x-python",
      "name": "python",
      "nbconvert_exporter": "python",
      "pygments_lexer": "ipython3",
      "version": "3.6.8"
    },
    "colab": {
      "provenance": []
    }
  },
  "cells": [
    {
      "cell_type": "code",
      "metadata": {
        "id": "8ArWK463kbhL",
        "outputId": "affaa697-360a-4478-ced7-dc198c93187d",
        "colab": {
          "base_uri": "https://localhost:8080/",
          "height": 17
        }
      },
      "source": [
        "import numpy as np\n",
        "import pandas as pd\n",
        "import plotly\n",
        "import plotly.figure_factory as ff\n",
        "import plotly.graph_objs as go\n",
        "from sklearn.linear_model import SGDClassifier\n",
        "\n",
        "from sklearn.linear_model import LogisticRegression\n",
        "from sklearn.preprocessing import StandardScaler\n",
        "from sklearn.preprocessing import MinMaxScaler\n",
        "from plotly.offline import download_plotlyjs, init_notebook_mode, plot, iplot\n",
        "init_notebook_mode(connected=True)"
      ],
      "execution_count": null,
      "outputs": [
        {
          "output_type": "display_data",
          "data": {
            "text/html": [
              "        <script type=\"text/javascript\">\n",
              "        window.PlotlyConfig = {MathJaxConfig: 'local'};\n",
              "        if (window.MathJax) {MathJax.Hub.Config({SVG: {font: \"STIX-Web\"}});}\n",
              "        if (typeof require !== 'undefined') {\n",
              "        require.undef(\"plotly\");\n",
              "        requirejs.config({\n",
              "            paths: {\n",
              "                'plotly': ['https://cdn.plot.ly/plotly-2.8.3.min']\n",
              "            }\n",
              "        });\n",
              "        require(['plotly'], function(Plotly) {\n",
              "            window._Plotly = Plotly;\n",
              "        });\n",
              "        }\n",
              "        </script>\n",
              "        "
            ]
          },
          "metadata": {}
        }
      ]
    },
    {
      "cell_type": "code",
      "metadata": {
        "id": "5mldzJdakbhS"
      },
      "source": [
        "data = pd.read_csv('task_b.csv')\n",
        "data=data.iloc[:,1:]"
      ],
      "execution_count": null,
      "outputs": []
    },
    {
      "cell_type": "code",
      "metadata": {
        "scrolled": true,
        "id": "rsCrC2wckbhV",
        "outputId": "7ed5e687-18b3-40a9-9633-2c12d55f1507",
        "colab": {
          "base_uri": "https://localhost:8080/",
          "height": 206
        }
      },
      "source": [
        "data.head()"
      ],
      "execution_count": null,
      "outputs": [
        {
          "output_type": "execute_result",
          "data": {
            "text/plain": [
              "            f1            f2        f3    y\n",
              "0  -195.871045 -14843.084171  5.532140  1.0\n",
              "1 -1217.183964  -4068.124621  4.416082  1.0\n",
              "2     9.138451   4413.412028  0.425317  0.0\n",
              "3   363.824242  15474.760647  1.094119  0.0\n",
              "4  -768.812047  -7963.932192  1.870536  0.0"
            ],
            "text/html": [
              "\n",
              "  <div id=\"df-72e695b3-f525-4520-91ac-4cfbfe36b380\">\n",
              "    <div class=\"colab-df-container\">\n",
              "      <div>\n",
              "<style scoped>\n",
              "    .dataframe tbody tr th:only-of-type {\n",
              "        vertical-align: middle;\n",
              "    }\n",
              "\n",
              "    .dataframe tbody tr th {\n",
              "        vertical-align: top;\n",
              "    }\n",
              "\n",
              "    .dataframe thead th {\n",
              "        text-align: right;\n",
              "    }\n",
              "</style>\n",
              "<table border=\"1\" class=\"dataframe\">\n",
              "  <thead>\n",
              "    <tr style=\"text-align: right;\">\n",
              "      <th></th>\n",
              "      <th>f1</th>\n",
              "      <th>f2</th>\n",
              "      <th>f3</th>\n",
              "      <th>y</th>\n",
              "    </tr>\n",
              "  </thead>\n",
              "  <tbody>\n",
              "    <tr>\n",
              "      <th>0</th>\n",
              "      <td>-195.871045</td>\n",
              "      <td>-14843.084171</td>\n",
              "      <td>5.532140</td>\n",
              "      <td>1.0</td>\n",
              "    </tr>\n",
              "    <tr>\n",
              "      <th>1</th>\n",
              "      <td>-1217.183964</td>\n",
              "      <td>-4068.124621</td>\n",
              "      <td>4.416082</td>\n",
              "      <td>1.0</td>\n",
              "    </tr>\n",
              "    <tr>\n",
              "      <th>2</th>\n",
              "      <td>9.138451</td>\n",
              "      <td>4413.412028</td>\n",
              "      <td>0.425317</td>\n",
              "      <td>0.0</td>\n",
              "    </tr>\n",
              "    <tr>\n",
              "      <th>3</th>\n",
              "      <td>363.824242</td>\n",
              "      <td>15474.760647</td>\n",
              "      <td>1.094119</td>\n",
              "      <td>0.0</td>\n",
              "    </tr>\n",
              "    <tr>\n",
              "      <th>4</th>\n",
              "      <td>-768.812047</td>\n",
              "      <td>-7963.932192</td>\n",
              "      <td>1.870536</td>\n",
              "      <td>0.0</td>\n",
              "    </tr>\n",
              "  </tbody>\n",
              "</table>\n",
              "</div>\n",
              "      <button class=\"colab-df-convert\" onclick=\"convertToInteractive('df-72e695b3-f525-4520-91ac-4cfbfe36b380')\"\n",
              "              title=\"Convert this dataframe to an interactive table.\"\n",
              "              style=\"display:none;\">\n",
              "        \n",
              "  <svg xmlns=\"http://www.w3.org/2000/svg\" height=\"24px\"viewBox=\"0 0 24 24\"\n",
              "       width=\"24px\">\n",
              "    <path d=\"M0 0h24v24H0V0z\" fill=\"none\"/>\n",
              "    <path d=\"M18.56 5.44l.94 2.06.94-2.06 2.06-.94-2.06-.94-.94-2.06-.94 2.06-2.06.94zm-11 1L8.5 8.5l.94-2.06 2.06-.94-2.06-.94L8.5 2.5l-.94 2.06-2.06.94zm10 10l.94 2.06.94-2.06 2.06-.94-2.06-.94-.94-2.06-.94 2.06-2.06.94z\"/><path d=\"M17.41 7.96l-1.37-1.37c-.4-.4-.92-.59-1.43-.59-.52 0-1.04.2-1.43.59L10.3 9.45l-7.72 7.72c-.78.78-.78 2.05 0 2.83L4 21.41c.39.39.9.59 1.41.59.51 0 1.02-.2 1.41-.59l7.78-7.78 2.81-2.81c.8-.78.8-2.07 0-2.86zM5.41 20L4 18.59l7.72-7.72 1.47 1.35L5.41 20z\"/>\n",
              "  </svg>\n",
              "      </button>\n",
              "      \n",
              "  <style>\n",
              "    .colab-df-container {\n",
              "      display:flex;\n",
              "      flex-wrap:wrap;\n",
              "      gap: 12px;\n",
              "    }\n",
              "\n",
              "    .colab-df-convert {\n",
              "      background-color: #E8F0FE;\n",
              "      border: none;\n",
              "      border-radius: 50%;\n",
              "      cursor: pointer;\n",
              "      display: none;\n",
              "      fill: #1967D2;\n",
              "      height: 32px;\n",
              "      padding: 0 0 0 0;\n",
              "      width: 32px;\n",
              "    }\n",
              "\n",
              "    .colab-df-convert:hover {\n",
              "      background-color: #E2EBFA;\n",
              "      box-shadow: 0px 1px 2px rgba(60, 64, 67, 0.3), 0px 1px 3px 1px rgba(60, 64, 67, 0.15);\n",
              "      fill: #174EA6;\n",
              "    }\n",
              "\n",
              "    [theme=dark] .colab-df-convert {\n",
              "      background-color: #3B4455;\n",
              "      fill: #D2E3FC;\n",
              "    }\n",
              "\n",
              "    [theme=dark] .colab-df-convert:hover {\n",
              "      background-color: #434B5C;\n",
              "      box-shadow: 0px 1px 3px 1px rgba(0, 0, 0, 0.15);\n",
              "      filter: drop-shadow(0px 1px 2px rgba(0, 0, 0, 0.3));\n",
              "      fill: #FFFFFF;\n",
              "    }\n",
              "  </style>\n",
              "\n",
              "      <script>\n",
              "        const buttonEl =\n",
              "          document.querySelector('#df-72e695b3-f525-4520-91ac-4cfbfe36b380 button.colab-df-convert');\n",
              "        buttonEl.style.display =\n",
              "          google.colab.kernel.accessAllowed ? 'block' : 'none';\n",
              "\n",
              "        async function convertToInteractive(key) {\n",
              "          const element = document.querySelector('#df-72e695b3-f525-4520-91ac-4cfbfe36b380');\n",
              "          const dataTable =\n",
              "            await google.colab.kernel.invokeFunction('convertToInteractive',\n",
              "                                                     [key], {});\n",
              "          if (!dataTable) return;\n",
              "\n",
              "          const docLinkHtml = 'Like what you see? Visit the ' +\n",
              "            '<a target=\"_blank\" href=https://colab.research.google.com/notebooks/data_table.ipynb>data table notebook</a>'\n",
              "            + ' to learn more about interactive tables.';\n",
              "          element.innerHTML = '';\n",
              "          dataTable['output_type'] = 'display_data';\n",
              "          await google.colab.output.renderOutput(dataTable, element);\n",
              "          const docLink = document.createElement('div');\n",
              "          docLink.innerHTML = docLinkHtml;\n",
              "          element.appendChild(docLink);\n",
              "        }\n",
              "      </script>\n",
              "    </div>\n",
              "  </div>\n",
              "  "
            ]
          },
          "metadata": {},
          "execution_count": 58
        }
      ]
    },
    {
      "cell_type": "code",
      "metadata": {
        "id": "FI18joJ_kbhZ",
        "outputId": "e31a1ef6-0458-4d6b-a159-1f15a86d6fe0",
        "colab": {
          "base_uri": "https://localhost:8080/"
        }
      },
      "source": [
        "data.corr()['y']"
      ],
      "execution_count": null,
      "outputs": [
        {
          "output_type": "execute_result",
          "data": {
            "text/plain": [
              "f1    0.067172\n",
              "f2   -0.017944\n",
              "f3    0.839060\n",
              "y     1.000000\n",
              "Name: y, dtype: float64"
            ]
          },
          "metadata": {},
          "execution_count": 59
        }
      ]
    },
    {
      "cell_type": "code",
      "metadata": {
        "scrolled": true,
        "id": "u40oCVMikbhc",
        "outputId": "ae8c2cdb-ac7c-40d2-e5de-94f13cfa9b15",
        "colab": {
          "base_uri": "https://localhost:8080/"
        }
      },
      "source": [
        "data.std()"
      ],
      "execution_count": null,
      "outputs": [
        {
          "output_type": "execute_result",
          "data": {
            "text/plain": [
              "f1      488.195035\n",
              "f2    10403.417325\n",
              "f3        2.926662\n",
              "y         0.501255\n",
              "dtype: float64"
            ]
          },
          "metadata": {},
          "execution_count": 60
        }
      ]
    },
    {
      "cell_type": "code",
      "metadata": {
        "id": "yQIbNaHskbhe",
        "outputId": "075f7ed6-7aad-4ae0-f925-e4044521a1c6",
        "colab": {
          "base_uri": "https://localhost:8080/"
        }
      },
      "source": [
        "X=data[['f1','f2','f3']].values\n",
        "Y=data['y'].values\n",
        "print(X.shape)\n",
        "print(Y.shape)"
      ],
      "execution_count": null,
      "outputs": [
        {
          "output_type": "stream",
          "name": "stdout",
          "text": [
            "(200, 3)\n",
            "(200,)\n"
          ]
        }
      ]
    },
    {
      "cell_type": "markdown",
      "source": [
        "#What if our features are with different variance\n",
        "##* As part of this task you will observe how linear models work in case of data having feautres with different variance\n",
        "##* from the output of the above cells you can observe that var(F2)>>var(F1)>>Var(F3)\n",
        "\n",
        "##> Task1:\n",
        "##    1. Apply Logistic regression(SGDClassifier with logloss) on 'data' and check the feature importance\n",
        " ##   2. Apply SVM(SGDClassifier with hinge) on 'data' and check the feature importance\n",
        "\n",
        "##> Task2:\n",
        "##    1. Apply Logistic regression(SGDClassifier with logloss) on 'data' after standardization \n",
        "##       i.e standardization(data, column wise): (column-mean(column))/std(column) and check the feature importance\n",
        " ##   2. Apply SVM(SGDClassifier with hinge) on 'data' after standardization \n",
        " ##      i.e standardization(data, column wise): (column-mean(column))/std(column) and check the feature importance\n"
      ],
      "metadata": {
        "id": "XSJUYQFiY36O"
      }
    },
    {
      "cell_type": "markdown",
      "source": [
        "# **TASK-1**"
      ],
      "metadata": {
        "id": "JrlbXLx5XJRp"
      }
    },
    {
      "cell_type": "code",
      "source": [
        "# SGD CLASSIER WITH LOG LOSS\n",
        "\n",
        "clf = SGDClassifier(loss = 'log',random_state = 40)\n"
      ],
      "metadata": {
        "id": "-DkhtltmUag4"
      },
      "execution_count": null,
      "outputs": []
    },
    {
      "cell_type": "code",
      "source": [
        "# FITTING THE DATA \n",
        "\n",
        "clf.fit(X,Y)"
      ],
      "metadata": {
        "colab": {
          "base_uri": "https://localhost:8080/"
        },
        "id": "3m1iq2CfUaju",
        "outputId": "45c0104f-de3a-4e9c-b85f-efd42cd5dad3"
      },
      "execution_count": null,
      "outputs": [
        {
          "output_type": "execute_result",
          "data": {
            "text/plain": [
              "SGDClassifier(loss='log', random_state=40)"
            ]
          },
          "metadata": {},
          "execution_count": 63
        }
      ]
    },
    {
      "cell_type": "code",
      "source": [
        "coef_dict = {}\n",
        "\n",
        "# CHECKING COFFICIENT FEATURE IN ALL THREE FEATURES \n",
        "for coef, feature in zip(clf.coef_[0,:],['f1','f2','f3']): # PRINTING THE WEIGHT COEFFICENT LOGISTIC REGRESSION\n",
        "    coef_dict[feature] = coef"
      ],
      "metadata": {
        "id": "FR_vxU8IUamh"
      },
      "execution_count": null,
      "outputs": []
    },
    {
      "cell_type": "code",
      "source": [
        "coef_dict"
      ],
      "metadata": {
        "colab": {
          "base_uri": "https://localhost:8080/"
        },
        "id": "6YY9oEVBUap8",
        "outputId": "11d07162-ddf7-4ea2-889e-348beba4a94d"
      },
      "execution_count": null,
      "outputs": [
        {
          "output_type": "execute_result",
          "data": {
            "text/plain": [
              "{'f1': 6982.256767938532, 'f2': -2771.299563022494, 'f3': 11010.407795163874}"
            ]
          },
          "metadata": {},
          "execution_count": 65
        }
      ]
    },
    {
      "cell_type": "code",
      "source": [
        "# SGD CLASSIFIER WITH HINGE LOSS\n",
        "\n",
        "clf = SGDClassifier(loss = 'hinge',random_state = 40)\n"
      ],
      "metadata": {
        "id": "305mDNfiVnhK"
      },
      "execution_count": null,
      "outputs": []
    },
    {
      "cell_type": "code",
      "source": [
        "clf.fit(X,Y)\n"
      ],
      "metadata": {
        "colab": {
          "base_uri": "https://localhost:8080/"
        },
        "id": "oQVR3H-vVnj1",
        "outputId": "81e8e957-0d3b-4165-c8f1-73334ece52f6"
      },
      "execution_count": null,
      "outputs": [
        {
          "output_type": "execute_result",
          "data": {
            "text/plain": [
              "SGDClassifier(random_state=40)"
            ]
          },
          "metadata": {},
          "execution_count": 67
        }
      ]
    },
    {
      "cell_type": "code",
      "source": [
        "coef_dict = {}\n",
        "\n",
        "# for cofficient of feature in all three features \n",
        "for coef, feature in zip(clf.coef_[0,:],['f1','f2','f3']): # PRINTING THE WEIGHT COEFFICENT LOGISTIC REGRESSION\n",
        "    coef_dict[feature] = coef"
      ],
      "metadata": {
        "id": "I6qnMmZFVnml"
      },
      "execution_count": null,
      "outputs": []
    },
    {
      "cell_type": "code",
      "source": [
        "coef_dict\n"
      ],
      "metadata": {
        "colab": {
          "base_uri": "https://localhost:8080/"
        },
        "id": "G6ogTA0nVnp9",
        "outputId": "a04edaa4-2d30-48c1-f18c-71b8fb587604"
      },
      "execution_count": null,
      "outputs": [
        {
          "output_type": "execute_result",
          "data": {
            "text/plain": [
              "{'f1': 9181.53524288595, 'f2': -3053.349870421418, 'f3': 10897.419417418072}"
            ]
          },
          "metadata": {},
          "execution_count": 69
        }
      ]
    },
    {
      "cell_type": "markdown",
      "source": [
        "# **feature-3 is most imp feature with high variance**\n",
        "\n",
        "\n",
        "\n"
      ],
      "metadata": {
        "id": "4cz7UJHIbX1d"
      }
    },
    {
      "cell_type": "markdown",
      "source": [
        "# **OBSERVATION**\n",
        ".\n",
        "**1. AS WE CAN SEE THAT F3>F1>F2 SO F3 IS MORE IMP FEATURE BECAUSE IT GIVING HIGH VARIANCE THAN F2 AND F1**\n",
        "\n",
        "\n",
        "**2. YES IT GIVING VARIANCE IN NEGATIVE VALUE BUT THAT NOT PROBLEM BECAUSE WE HAVE NOT STANDERIZED THE DATA YET**\n",
        "\n",
        "\n",
        "**3 SO AT CONCLUSION F3 IS MORE IMP FEATURE THAN F1 AND F2 IN  SGD CLASSIFIER  WITH LOG LOSS AND   HINGE LOSS**"
      ],
      "metadata": {
        "id": "_Ht6lx_8WT1G"
      }
    },
    {
      "cell_type": "markdown",
      "source": [
        "#**TASK-2**"
      ],
      "metadata": {
        "id": "eWM-xawSXN_Z"
      }
    },
    {
      "cell_type": "markdown",
      "source": [
        "# **SO AS PER INSTRUCTION ABOVE PERFORMING TASK 2 AFTER STANDERIZED THE DATA**"
      ],
      "metadata": {
        "id": "kuwcD4pAcQ8b"
      }
    },
    {
      "cell_type": "code",
      "source": [
        "# STANDERIZING THE DATASET \n",
        "\n",
        "df = StandardScaler().fit_transform(data[['f1','f2','f3']]) \n"
      ],
      "metadata": {
        "id": "VIiLqIB3V5eE"
      },
      "execution_count": null,
      "outputs": []
    },
    {
      "cell_type": "code",
      "source": [
        "# SGD CLASSIFIER WITH LOG LOSS\n",
        "\n",
        "clf = SGDClassifier(loss = 'log',random_state = 40)\n"
      ],
      "metadata": {
        "id": "JT4z71C5V5g4"
      },
      "execution_count": null,
      "outputs": []
    },
    {
      "cell_type": "code",
      "source": [
        "# FITTING THE DATA \n",
        "\n",
        "clf.fit(df,Y)"
      ],
      "metadata": {
        "colab": {
          "base_uri": "https://localhost:8080/"
        },
        "id": "Xn8_eNeuXiiA",
        "outputId": "b2f96a00-dad5-4039-8171-d75db6b8695a"
      },
      "execution_count": null,
      "outputs": [
        {
          "output_type": "execute_result",
          "data": {
            "text/plain": [
              "SGDClassifier(loss='log', random_state=40)"
            ]
          },
          "metadata": {},
          "execution_count": 72
        }
      ]
    },
    {
      "cell_type": "code",
      "source": [
        "coef_dict = {}\n",
        "\n",
        "# cofficient feature \n",
        "for coef, feature in zip(clf.coef_[0,:],['f1','f2','f3']):\n",
        "    coef_dict[feature] = coef"
      ],
      "metadata": {
        "id": "Ecaw6uLeXik_"
      },
      "execution_count": null,
      "outputs": []
    },
    {
      "cell_type": "code",
      "source": [
        "coef_dict"
      ],
      "metadata": {
        "colab": {
          "base_uri": "https://localhost:8080/"
        },
        "id": "Hfm-aIuVXin6",
        "outputId": "63beb57f-664d-45b0-df33-c181b6c0ad3a"
      },
      "execution_count": null,
      "outputs": [
        {
          "output_type": "execute_result",
          "data": {
            "text/plain": [
              "{'f1': -0.7591517430653005,\n",
              " 'f2': -1.7950410095356744,\n",
              " 'f3': 17.265182664963948}"
            ]
          },
          "metadata": {},
          "execution_count": 74
        }
      ]
    },
    {
      "cell_type": "markdown",
      "source": [
        "# **FEATURE 3 IS MOST IMP FEATURE HERE**"
      ],
      "metadata": {
        "id": "VX_Gt9Qua92a"
      }
    },
    {
      "cell_type": "code",
      "source": [
        "clf = SGDClassifier(loss = 'hinge',random_state = 40)\n"
      ],
      "metadata": {
        "id": "pZUtBAbmXiqe"
      },
      "execution_count": null,
      "outputs": []
    },
    {
      "cell_type": "code",
      "source": [
        "clf.fit(df,Y)"
      ],
      "metadata": {
        "colab": {
          "base_uri": "https://localhost:8080/"
        },
        "id": "CfwTKFjLXitL",
        "outputId": "f1b72e27-e544-41f1-e40a-cdf51d964184"
      },
      "execution_count": null,
      "outputs": [
        {
          "output_type": "execute_result",
          "data": {
            "text/plain": [
              "SGDClassifier(random_state=40)"
            ]
          },
          "metadata": {},
          "execution_count": 76
        }
      ]
    },
    {
      "cell_type": "code",
      "source": [
        "coef_dict = {}\n",
        "\n",
        "# for cofficient feature in all three featues\n",
        "\n",
        "for coef, feature in zip(clf.coef_[0,:],['f1','f2','f3']):\n",
        "    coef_dict[feature] = coef"
      ],
      "metadata": {
        "id": "6nSlk_9pXiwC"
      },
      "execution_count": null,
      "outputs": []
    },
    {
      "cell_type": "code",
      "source": [
        "coef_dict"
      ],
      "metadata": {
        "colab": {
          "base_uri": "https://localhost:8080/"
        },
        "id": "IV5JA-XMXizj",
        "outputId": "bf9c256a-9ebb-4a6d-836e-5900072b3714"
      },
      "execution_count": null,
      "outputs": [
        {
          "output_type": "execute_result",
          "data": {
            "text/plain": [
              "{'f1': -2.0026595276079937, 'f2': 0.9754735153716872, 'f3': 13.00240336239749}"
            ]
          },
          "metadata": {},
          "execution_count": 78
        }
      ]
    },
    {
      "cell_type": "markdown",
      "source": [
        "# **HERE ALSO FEATURE-3 S MOST IMP WITH NO VARIANCE**"
      ],
      "metadata": {
        "id": "dEzymUg6bFPM"
      }
    },
    {
      "cell_type": "markdown",
      "source": [
        "# **OBSERVATION**\n",
        "\n",
        "**1. AFTER HAVING STANDERIZATION OF DATASET NOW F2 IS MOST IMP FEATURE F3>F2F1**\n",
        "\n",
        "\n",
        "**2.SO WE NEED TO KEEP IN MIND THE NEGATIVE VALUE BECAUSE DATA IS NOT STANDERIZED**\n",
        "\n",
        "**3. SO AT CONCLUSION F3 IS MOST IMP FEATURE**\n",
        "\n"
      ],
      "metadata": {
        "id": "PlKRe4MZYO0t"
      }
    },
    {
      "cell_type": "markdown",
      "metadata": {
        "id": "TbMnsrxakbhi"
      },
      "source": [
        "<h3><font color='blue'> Make sure you write the observations for each task, why a particular feautre got more importance than others</font></h3>"
      ]
    },
    {
      "cell_type": "markdown",
      "source": [
        "# **FINAL  OBSERVATION**\n",
        "\n",
        "**1. F3 IS MOST IMP FEATURE**\n",
        "\n",
        "**2. WHEN DATA WAS NOT STANDARDRIZED VARIANCE WAS VERY HIGH**\n",
        "\n",
        "**3. VARIANCE IS REMOVED AFTER STADRIZATION**\n",
        "\n",
        "**4. IN BOTH THE CLASSIFIER LOGESTIC REG AND SVM F3 IS MOST IMP FEATURE**\n",
        "\n",
        "**5. SGD CLASSIFIER TEND TO PERORM WELL THAN LOG LOSS**"
      ],
      "metadata": {
        "id": "ZVa9bNv8Zf_-"
      }
    },
    {
      "cell_type": "code",
      "source": [],
      "metadata": {
        "id": "vY-OA_PyaF9Z"
      },
      "execution_count": null,
      "outputs": []
    }
  ]
}